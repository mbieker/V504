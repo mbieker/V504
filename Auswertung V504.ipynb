{
 "metadata": {
  "name": ""
 },
 "nbformat": 3,
 "nbformat_minor": 0,
 "worksheets": [
  {
   "cells": [
    {
     "cell_type": "markdown",
     "metadata": {},
     "source": [
      "#V504 - Thermische Elektronenemmission\n",
      "###To Do:\n",
      "\n",
      "+ Daten einlesen  \n",
      "+ Plotten  \n",
      "  + I(u) -Kennliniendiagramm\n",
      "  + HIer bin ich\n",
      "  "
     ]
    },
    {
     "cell_type": "code",
     "collapsed": false,
     "input": [
      "#Importe\n",
      "from numpy import *\n",
      "from matplotlib.pyplot import *"
     ],
     "language": "python",
     "metadata": {},
     "outputs": [],
     "prompt_number": 2
    },
    {
     "cell_type": "code",
     "collapsed": false,
     "input": [
      "#Daten einlesen f\u00fcr Veruschsteil a) und c)\n",
      "data = loadtxt('data.csv' ,delimiter = ',', skiprows=1,unpack=True)\n",
      "U = data[0]\n",
      "I = data [1:]\n",
      "I_h,U_h = loadtxt('heating_data.csv',  skiprows=1, delimiter = ',', unpack=True)"
     ],
     "language": "python",
     "metadata": {},
     "outputs": [],
     "prompt_number": 14
    },
    {
     "cell_type": "code",
     "collapsed": false,
     "input": [
      "for i in range(5):\n",
      "    plot(U,I[i],label =r\"$I_H = \"+str(I_h[i])+r\"\\rm{\\,A}$\")\n",
      "legend()\n",
      "show()"
     ],
     "language": "python",
     "metadata": {},
     "outputs": [],
     "prompt_number": 18
    },
    {
     "cell_type": "code",
     "collapsed": false,
     "input": [],
     "language": "python",
     "metadata": {},
     "outputs": [],
     "prompt_number": 5
    },
    {
     "cell_type": "code",
     "collapsed": false,
     "input": [],
     "language": "python",
     "metadata": {},
     "outputs": []
    }
   ],
   "metadata": {}
  }
 ]
}